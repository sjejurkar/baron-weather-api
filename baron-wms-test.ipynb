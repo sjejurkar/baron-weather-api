{
 "cells": [
  {
   "cell_type": "code",
   "execution_count": 27,
   "id": "992a168c",
   "metadata": {},
   "outputs": [],
   "source": [
    "import base64\n",
    "import datetime\n",
    "import hmac\n",
    "import time\n",
    "import urllib.request\n",
    "import requests\n",
    "from dotenv import load_dotenv\n",
    "import os\n",
    "import json\n",
    "from hashlib import sha1 as sha"
   ]
  },
  {
   "cell_type": "code",
   "execution_count": 28,
   "id": "0acd4bcd",
   "metadata": {},
   "outputs": [
    {
     "data": {
      "text/plain": [
       "True"
      ]
     },
     "execution_count": 28,
     "metadata": {},
     "output_type": "execute_result"
    }
   ],
   "source": [
    "load_dotenv(\"local.env\")"
   ]
  },
  {
   "cell_type": "code",
   "execution_count": 29,
   "id": "d3e824b7",
   "metadata": {},
   "outputs": [],
   "source": [
    "host = \"http://api.velocityweather.com/v1\"\n",
    "access_key = os.getenv(\"BARON_KEY\")\n",
    "if access_key is None:\n",
    "    raise ValueError(\"Missing BARON_KEY in local.env file\")\n",
    "access_key_secret = os.getenv(\"BARON_SECRET\")\n",
    "if access_key_secret is None:\n",
    "    raise ValueError(\"Missing BARON_SECRET in local.env file\")"
   ]
  },
  {
   "cell_type": "code",
   "execution_count": 30,
   "id": "c118f12e",
   "metadata": {},
   "outputs": [],
   "source": [
    "def sign(string_to_sign, secret):\n",
    "    hmac_sha1 = hmac.new(\n",
    "        # Convert secret to bytes using UTF-8\n",
    "        secret.encode('utf-8'),\n",
    "        # Convert input string to bytes using UTF-8\n",
    "        string_to_sign.encode('utf-8'),\n",
    "        sha                        # Use SHA1 hash algorithm\n",
    "    )\n",
    "\n",
    "    # Get the binary digest\n",
    "    hmac_digest = hmac_sha1.digest()\n",
    "\n",
    "    # Encode to base64\n",
    "    base64_encoded = base64.b64encode(hmac_digest).decode('utf-8')\n",
    "\n",
    "    # Replace characters to make URL safe\n",
    "    signature = base64_encoded.replace('/', '_').replace('+', '-')\n",
    "\n",
    "    return signature\n",
    "\n",
    "\n",
    "def sign_request(url, key, secret):\n",
    "    \"\"\" Returns signed url\n",
    "    \"\"\"\n",
    "\n",
    "    ts = str(int(time.time()))\n",
    "    sig = sign(key + \":\" + ts, secret)\n",
    "    q = '?' if url.find(\"?\") == -1 else '&'\n",
    "    url += \"%ssig=%s&ts=%s\" % (q, sig, ts)\n",
    "    return url"
   ]
  },
  {
   "cell_type": "code",
   "execution_count": 31,
   "id": "1689ce92",
   "metadata": {},
   "outputs": [],
   "source": [
    "def fetch_url(url):\n",
    "    try:\n",
    "        # Make the request with gzip compression support\n",
    "        response = requests.get(url, headers={\"Accept-Encoding\": \"gzip\"})\n",
    "        response.raise_for_status()\n",
    "        return response.json()\n",
    "    except requests.RequestException as e:\n",
    "        print(f\"[VelocityWeather] Request failed: {e}\")\n",
    "        return None"
   ]
  },
  {
   "cell_type": "code",
   "execution_count": 32,
   "id": "02e7edcc",
   "metadata": {},
   "outputs": [],
   "source": [
    "def get_product_instance(product, product_config):\n",
    "    \"\"\"\n",
    "    Retrieve product instance metadata from the Velocity Weather API.\n",
    "    \n",
    "    This function fetches the latest product instance information for a given\n",
    "    product and configuration. It uses request signing for authentication and\n",
    "    handles error cases appropriately.\n",
    "    \n",
    "    Args:\n",
    "        product (str): The product identifier (e.g., \"fire-tracker-us\")\n",
    "        product_config (str): The product configuration (e.g., \"Standard-Mercator\")\n",
    "        \n",
    "    Returns:\n",
    "        dict or None: The product instance metadata if successful, None if the request fails\n",
    "        \n",
    "    Example:\n",
    "        >>> instance_data = get_product_instance(\"fire-tracker-us\", \"Standard-Mercator\")\n",
    "        >>> if instance_data:\n",
    "        ...     print(instance_data[0]['time'])\n",
    "    \"\"\"\n",
    "    # Construct the metadata URL\n",
    "    meta_url = f\"{host}/{access_key}/meta/tiles/product-instances/{product}/{product_config}\"\n",
    "    \n",
    "    # Sign the request for authentication\n",
    "    signed_url = sign_request(meta_url, access_key, access_key_secret)\n",
    "    \n",
    "    # Fetch and validate the response\n",
    "    data = fetch_url(signed_url)\n",
    "    if not data:\n",
    "        print(\"Error: Product meta info not found.\")\n",
    "    return data"
   ]
  },
  {
   "cell_type": "code",
   "execution_count": 33,
   "id": "b08f2458",
   "metadata": {},
   "outputs": [],
   "source": [
    "def get_instance_time(product, config):\n",
    "    data = get_product_instance(product, config)\n",
    "    if not data:\n",
    "        return None\n",
    "\n",
    "    instance_time = data[0]['time'] \n",
    "    return instance_time"
   ]
  },
  {
   "cell_type": "code",
   "execution_count": 34,
   "id": "97c1a94a",
   "metadata": {},
   "outputs": [],
   "source": [
    "def request_wms_url(product, product_config, image_size_in_pixels, image_bounds):\n",
    "    \"\"\"\n",
    "    Requests a WMS image and saves it to disk in the current directory.\n",
    "    @param product: The product code, such as 'C39-0x0302-0'\n",
    "    @param product_config: The product configuration, such as 'Standard-Mercator' or 'Standard-Geodetic'.\n",
    "    @param image_size_in_pixels: The image width and height in pixels, such as [1024, 1024].\n",
    "    @param image_bounds: The bounds of the image. This value has several caveats, depending\n",
    "        on the projection being requested.\n",
    "        A. If requesting a Mercator (EPSG:3857) image:\n",
    "            1. The coordinates must be in meters.\n",
    "            2. The WMS 1.3.0 spec requires the coordinates be in this order [xmin, ymin, xmax, ymax]\n",
    "            3. As an example, to request the whole world, you would use [-20037508.342789244, -20037508.342789244, 20037508.342789244, 20037508.342789244].\n",
    "               Because this projection stretches to infinity as you approach the poles, the ymin and ymax values\n",
    "               are clipped to the equivalent of -85.05112877980659 and 85.05112877980659 latitude, not -90 and 90 latitude,\n",
    "               resulting in a perfect square of projected meters.\n",
    "        B. If requesting a Geodetic (EPSG:4326) image:\n",
    "            1. The coordinates must be in decimal degrees.\n",
    "            2. The WMS 1.3.0 spec requires the coordinates be in this order [lat_min, lon_min, lat_max, lon_max].\n",
    "            3. As an example, to request the whole world, you would use [-90, -180, 90, 180].\n",
    "\n",
    "    Theoretically it is possible to request any arbitrary combination of image_size_in_pixels and image_bounds,\n",
    "    but this is not advisable and is actually discouraged. It is expected that the proportion you use for\n",
    "    image_width_in_pixels/image_height_in_pixels is equal to image_width_bounds/image_height_bounds. If this is\n",
    "    not the case, you have most likely done some incorrect calculations. It will result in a distorted (stretched\n",
    "    or squished) image that is incorrect for the requested projection. One fairly obvious sign that your\n",
    "    proportions don't match up correctly is that the image you receive from your WMS request will have no\n",
    "    smoothing (interpolation), resulting in jaggy or pixelated data.\n",
    "    \"\"\"\n",
    "\n",
    "    # We're using the TMS-style product instances API here for simplicity. If you\n",
    "    # are using a standards-compliant WMS client, do note that we also provide a\n",
    "    # WMS-style API to retrieve product instances which may be more suitable to your\n",
    "    # needs. See our documentation for details.\n",
    "\n",
    "    # For this example, we use the optional parameter \"page_size\" to limit the\n",
    "    # list of product instances to the most recent instance.\n",
    "    meta_url = '{}/{}/meta/tiles/product-instances/{}/{}?page_size=1'.format(\n",
    "        host, access_key, product, product_config)\n",
    "    meta_url = sign_request(meta_url, access_key, access_key_secret)\n",
    "\n",
    "    # request = urllib.Request(meta_url)\n",
    "    try:\n",
    "        response = urllib.request.urlopen(meta_url)\n",
    "    except urllib.error.HTTPError as e:\n",
    "        print('HTTP status code:', e.code)\n",
    "        print('content:')\n",
    "        print(e.read())\n",
    "        return\n",
    "    assert response.code == 200\n",
    "\n",
    "    # Decode the product instance response and get the most recent product instance time,\n",
    "    # to be used in the WMS image request.\n",
    "    content = json.loads(response.read())\n",
    "    product_instance_time = content[0]['time']\n",
    "\n",
    "    # WMS uses EPSG codes, while our product configuration code uses 'Geodetic' or\n",
    "    # 'Mercator'. We map between the two here to prepare for the WMS CRS query parameter.\n",
    "    epsg_code = 'EPSG:4326' if product_config.endswith(\n",
    "        '-Geodetic') else 'EPSG:3857'\n",
    "\n",
    "    # Convert the image bounds to a comma-separated string.\n",
    "    image_bounds = ','.join(str(x) for x in image_bounds)\n",
    "\n",
    "    wms_url = '{}/{}/wms/{}/{}?VERSION=1.3.0&SERVICE=WMS&REQUEST=GetMap&CRS={}&LAYERS={}&BBOX={}&WIDTH={}&HEIGHT={}&TIME={}'.format(\n",
    "        host,\n",
    "        access_key,\n",
    "        product,\n",
    "        product_config,\n",
    "        epsg_code,\n",
    "        product_instance_time,\n",
    "        image_bounds,\n",
    "        image_size_in_pixels[0],\n",
    "        image_size_in_pixels[1],\n",
    "        product_instance_time\n",
    "    )\n",
    "    wms_url = sign_request(wms_url, access_key, access_key_secret)\n",
    "    print(wms_url)\n",
    "\n",
    "    return(wms_url)\n"
   ]
  },
  {
   "cell_type": "code",
   "execution_count": 35,
   "id": "d162bc7b",
   "metadata": {},
   "outputs": [],
   "source": [
    "def request_wms_image(product, product_config, image_size_in_pixels, image_bounds):\n",
    "    \"\"\" \n",
    "    Requests a WMS image and saves it to disk in the current directory.\n",
    "    \"\"\"\n",
    "    wms_url = request_wms_url(product, product_config, image_size_in_pixels, image_bounds)\n",
    "    if wms_url is None:\n",
    "        print('Failed to get WMS URL')\n",
    "        return\n",
    "    try:\n",
    "        response = urllib.request.urlopen(wms_url)\n",
    "    except urllib.error.HTTPError as e:\n",
    "        print('HTTP status code:', e.code)\n",
    "        print('content:')\n",
    "        print(e.read())\n",
    "        return\n",
    "    assert response.code == 200\n",
    "\n",
    "    content = response.read()\n",
    "    filename = './wms_img_{}_{}.png'.format(product, product_config)\n",
    "    print('Read {} bytes, saving as {}'.format(len(content), filename))\n",
    "    with open(filename, 'wb') as f:\n",
    "        f.write(content)"
   ]
  },
  {
   "cell_type": "code",
   "execution_count": 36,
   "id": "3dbce2f7",
   "metadata": {},
   "outputs": [],
   "source": [
    "def request_wms_capabilities(product, product_config):\n",
    "    capabilities_url = f\"{host}/{access_key}/wms/{product}/{product_config}?SERVICE=WMS&REQUEST=GetCapabilities\"\n",
    "    print(f\"capabilities_url={capabilities_url}\")\n",
    "    capabilities_url = sign_request(capabilities_url, access_key, access_key_secret)\n",
    "    print(f\"capabilities_url={capabilities_url}\")\n",
    "    try:\n",
    "        response = urllib.request.urlopen(capabilities_url)\n",
    "    except urllib.error.HTTPError as e:\n",
    "        print('HTTP status code:', e.code)\n",
    "        print('content:')\n",
    "        print(e.read())\n",
    "        return\n",
    "    assert response.code == 200\n",
    "    content = response.read()\n",
    "    filename = './wms_capabilities_{}_{}.xml'.format(product, product_config)\n",
    "    print('Read {} bytes, saving as {}'.format(len(content), filename))\n",
    "    with open(filename, 'wb') as f:\n",
    "        f.write(content)\n",
    "    print(f\"Saved capabilities to {filename}\")\n",
    "    "
   ]
  },
  {
   "cell_type": "code",
   "execution_count": 37,
   "id": "976870f6",
   "metadata": {},
   "outputs": [],
   "source": [
    "# texas_bound_box = [-106.645646, 36.500704, -93.508292, 25.837164]\n",
    "# texas_bbox_str = \"-106.645646,36.500704,-93.508292,25.837164\"\n",
    "\n",
    "texas_bound_box = [25.837164, -106.645646, 36.500704, -93.508292]\n",
    "arkansas_bound_box = [-94.724121, 32.512896, -89.428711, 36.576877]\n",
    "usa_bound_box = [ 25.618963, -125.859375, 49.378416, -63.193359]\n",
    "temp_bound_box = [-106.645646, 36.500704, -105.808292, 35.837164]\n",
    "whole_world_bound_box = [-90, -180, 90, 180]\n",
    "tx_panhandle_bound_box = [-103.05, 34.65, -99.99, 36.53]"
   ]
  },
  {
   "cell_type": "code",
   "execution_count": 38,
   "id": "681be69b",
   "metadata": {},
   "outputs": [],
   "source": [
    "# product = \n",
    "product = 'north-american-radar' # 'flash-flood-risk' #'baron-hires-haildiameter' # 'fire-tracker-us' #'north-american-radar' #'fspc-day2-outlook' #  'C39-0x0302-0' #  #'C39-0x0355-0' # \n",
    "product_config = 'Standard-Geodetic' # 'Standard-Mercator' # \n",
    "image_size_in_pixels = [2048, 2048]\n",
    "image_bounds = texas_bound_box\n"
   ]
  },
  {
   "cell_type": "code",
   "execution_count": 39,
   "id": "70509a4c",
   "metadata": {},
   "outputs": [
    {
     "name": "stdout",
     "output_type": "stream",
     "text": [
      "http://api.velocityweather.com/v1/XMFbRooKrTYP/wms/north-american-radar/Standard-Geodetic?VERSION=1.3.0&SERVICE=WMS&REQUEST=GetMap&CRS=EPSG:4326&LAYERS=2025-05-30T20:58:43Z&BBOX=25.837164,-106.645646,36.500704,-93.508292&WIDTH=2048&HEIGHT=2048&TIME=2025-05-30T20:58:43Z&sig=aUqQMsHVOpBkZDiD2Z0nuFdhlKs=&ts=1748638828\n",
      "Read 175121 bytes, saving as ./wms_img_north-american-radar_Standard-Geodetic.png\n"
     ]
    }
   ],
   "source": [
    "\n",
    "request_wms_image(product, product_config, image_size_in_pixels, image_bounds)"
   ]
  },
  {
   "cell_type": "code",
   "execution_count": null,
   "id": "9d3ae1fa",
   "metadata": {},
   "outputs": [],
   "source": [
    "# Mercator\n",
    "image_bounds_mercator = [-20037508.342789244, -20037508.342789244, 20037508.342789244, 20037508.342789244]\n",
    "# request_wms_image(product, 'Standard-Mercator', image_size_in_pixels, image_bounds_mercator)"
   ]
  },
  {
   "cell_type": "code",
   "execution_count": null,
   "id": "d4e2d61d",
   "metadata": {},
   "outputs": [],
   "source": [
    "import leafmap\n",
    "hc_lat = 29.85722627925764\n",
    "hc_long = -95.39202050686889\n",
    "m = leafmap.Map(center=[hc_lat, hc_long], zoom=7,\n",
    "                epsg=\"4326\")"
   ]
  },
  {
   "cell_type": "code",
   "execution_count": null,
   "id": "ac75d802",
   "metadata": {},
   "outputs": [],
   "source": [
    "layer_name = product.replace('-', '_') + '_' + product_config.replace('-', '_')\n",
    "\n",
    "m.add_wms_layer(\n",
    "    url=wms_url,\n",
    "    layers=layer_name,\n",
    "    name=layer_name,\n",
    "    format='image/png',\n",
    "    transparent=True,\n",
    "    opacity=0.4\n",
    ")"
   ]
  },
  {
   "cell_type": "code",
   "execution_count": null,
   "id": "83f82029",
   "metadata": {},
   "outputs": [],
   "source": [
    "m"
   ]
  }
 ],
 "metadata": {
  "kernelspec": {
   "display_name": ".venv",
   "language": "python",
   "name": "python3"
  },
  "language_info": {
   "codemirror_mode": {
    "name": "ipython",
    "version": 3
   },
   "file_extension": ".py",
   "mimetype": "text/x-python",
   "name": "python",
   "nbconvert_exporter": "python",
   "pygments_lexer": "ipython3",
   "version": "3.11.9"
  }
 },
 "nbformat": 4,
 "nbformat_minor": 5
}
