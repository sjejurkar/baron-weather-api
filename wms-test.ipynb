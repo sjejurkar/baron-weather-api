{
 "cells": [
  {
   "cell_type": "code",
   "execution_count": 1,
   "id": "4d32c38a",
   "metadata": {},
   "outputs": [],
   "source": [
    "import leafmap"
   ]
  },
  {
   "cell_type": "code",
   "execution_count": 2,
   "id": "76a6da82",
   "metadata": {},
   "outputs": [],
   "source": [
    "\n",
    "# Create a map instance\n",
    "m = leafmap.Map()\n",
    "\n",
    "# Add a WMS layer (example: NASA Global Mosaic MODIS)\n",
    "wms_url = \"https://gibs.earthdata.nasa.gov/wms/epsg4326/best/wms.cgi\"\n",
    "layer_name = \"MODIS_Terra_CorrectedReflectance_TrueColor\"\n",
    "\n",
    "m.add_wms_layer(\n",
    "    url=wms_url,\n",
    "    layers=layer_name,\n",
    "    name=\"MODIS True Color\",\n",
    "    format='image/png',\n",
    "    transparent=True,\n",
    "    opacity=0.4,\n",
    "    \n",
    ")\n",
    "\n"
   ]
  },
  {
   "cell_type": "code",
   "execution_count": 3,
   "id": "6824c7e1",
   "metadata": {},
   "outputs": [
    {
     "data": {
      "application/vnd.jupyter.widget-view+json": {
       "model_id": "05d2d49c70fd4850ba1b497163ca32ab",
       "version_major": 2,
       "version_minor": 0
      },
      "text/plain": [
       "Map(center=[20, 0], controls=(ZoomControl(options=['position', 'zoom_in_text', 'zoom_in_title', 'zoom_out_text…"
      ]
     },
     "execution_count": 3,
     "metadata": {},
     "output_type": "execute_result"
    }
   ],
   "source": [
    "m"
   ]
  }
 ],
 "metadata": {
  "kernelspec": {
   "display_name": ".venv",
   "language": "python",
   "name": "python3"
  },
  "language_info": {
   "codemirror_mode": {
    "name": "ipython",
    "version": 3
   },
   "file_extension": ".py",
   "mimetype": "text/x-python",
   "name": "python",
   "nbconvert_exporter": "python",
   "pygments_lexer": "ipython3",
   "version": "3.11.9"
  }
 },
 "nbformat": 4,
 "nbformat_minor": 5
}
