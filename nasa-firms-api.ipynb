{
 "cells": [
  {
   "cell_type": "code",
   "execution_count": 1,
   "metadata": {},
   "outputs": [],
   "source": [
    "import pandas as pd\n",
    "from dotenv import load_dotenv\n",
    "import os\n",
    "import leafmap"
   ]
  },
  {
   "cell_type": "code",
   "execution_count": 2,
   "metadata": {},
   "outputs": [
    {
     "data": {
      "text/plain": [
       "True"
      ]
     },
     "execution_count": 2,
     "metadata": {},
     "output_type": "execute_result"
    }
   ],
   "source": [
    "load_dotenv(\"local.env\")"
   ]
  },
  {
   "cell_type": "code",
   "execution_count": 3,
   "metadata": {},
   "outputs": [],
   "source": [
    "MAP_KEY = os.getenv(\"NASA_FIRMS_MAP_KEY\")\n",
    "if MAP_KEY is None:\n",
    "    raise ValueError(\"NASA FIRMS MAP_KEY not found in environment variables.\")"
   ]
  },
  {
   "cell_type": "code",
   "execution_count": 4,
   "metadata": {},
   "outputs": [],
   "source": [
    "def get_transaction_count():\n",
    "    txn_url = f\"https://firms.modaps.eosdis.nasa.gov/mapserver/mapkey_status/?MAP_KEY={MAP_KEY}\"\n",
    "    count = 0\n",
    "    try:\n",
    "        df = pd.read_json(txn_url,  typ='series')\n",
    "        count = df['current_transactions']\n",
    "    except Exception as e:\n",
    "        print(f\"An unexpected error occurred: {e}\")\n",
    "    return count"
   ]
  },
  {
   "cell_type": "code",
   "execution_count": 5,
   "metadata": {},
   "outputs": [],
   "source": [
    "def get_wildfires():\n",
    "    tcount = get_transaction_count()\n",
    "    print('Our current transaction count is %i' % tcount)\n",
    "\n",
    "    # Sensor type\n",
    "    SENSOR = 'VIIRS_SNPP_NRT'\n",
    "    # SENSOR = 'VIIRS_NOAA20_NRT'\n",
    "    # SENSOR = 'MODIS_NRT'\n",
    "\n",
    "    # Date of interest\n",
    "    # DATE = '2025-04-09'  # Replace with your desired date\n",
    "    DAYS = '1'\n",
    "\n",
    "    # Bounding box for Texas\n",
    "    # BBOX = '-106.645646,25.837377,-93.508292,36.500704'\n",
    "\n",
    "    # Bounding box for the continental US\n",
    "    BBOX =  '-125.859375,25.618963,-63.193359,49.378416'\n",
    "\n",
    "    # Construct the API URL\n",
    "    url = f'https://firms.modaps.eosdis.nasa.gov/api/area/csv/{MAP_KEY}/{SENSOR}/{BBOX}/{DAYS}'\n",
    "\n",
    "    start_count = get_transaction_count()\n",
    "    df_area = pd.read_csv(url)\n",
    "    end_count = get_transaction_count()\n",
    "\n",
    "    print(df_area.head())\n",
    "\n",
    "    print('We used %i transactions.' % (end_count-start_count))\n",
    "\n",
    "    return df_area"
   ]
  },
  {
   "cell_type": "code",
   "execution_count": 6,
   "metadata": {},
   "outputs": [
    {
     "name": "stdout",
     "output_type": "stream",
     "text": [
      "Our current transaction count is 4\n",
      "   latitude  longitude  bright_ti4  scan  track    acq_date  acq_time  \\\n",
      "0  48.18580  -64.92191      299.55  0.39   0.36  2025-05-15       618   \n",
      "1  41.56999  -84.04675      295.85  0.75   0.77  2025-05-15       620   \n",
      "2  42.94596  -82.41591      299.30  0.63   0.72  2025-05-15       620   \n",
      "3  43.25919  -79.80930      299.35  0.47   0.64  2025-05-15       620   \n",
      "4  43.26336  -79.81239      295.10  0.47   0.64  2025-05-15       620   \n",
      "\n",
      "  satellite instrument confidence version  bright_ti5   frp daynight  \n",
      "0         N      VIIRS          n  2.0NRT      284.69  0.77        N  \n",
      "1         N      VIIRS          n  2.0NRT      279.97  1.89        N  \n",
      "2         N      VIIRS          n  2.0NRT      281.08  1.30        N  \n",
      "3         N      VIIRS          n  2.0NRT      280.92  1.07        N  \n",
      "4         N      VIIRS          n  2.0NRT      280.94  2.32        N  \n",
      "We used 4 transactions.\n"
     ]
    }
   ],
   "source": [
    "wildfires_df = get_wildfires()"
   ]
  },
  {
   "cell_type": "code",
   "execution_count": 7,
   "metadata": {},
   "outputs": [
    {
     "data": {
      "text/html": [
       "<div>\n",
       "<style scoped>\n",
       "    .dataframe tbody tr th:only-of-type {\n",
       "        vertical-align: middle;\n",
       "    }\n",
       "\n",
       "    .dataframe tbody tr th {\n",
       "        vertical-align: top;\n",
       "    }\n",
       "\n",
       "    .dataframe thead th {\n",
       "        text-align: right;\n",
       "    }\n",
       "</style>\n",
       "<table border=\"1\" class=\"dataframe\">\n",
       "  <thead>\n",
       "    <tr style=\"text-align: right;\">\n",
       "      <th></th>\n",
       "      <th>latitude</th>\n",
       "      <th>longitude</th>\n",
       "      <th>bright_ti4</th>\n",
       "      <th>scan</th>\n",
       "      <th>track</th>\n",
       "      <th>acq_date</th>\n",
       "      <th>acq_time</th>\n",
       "      <th>satellite</th>\n",
       "      <th>instrument</th>\n",
       "      <th>confidence</th>\n",
       "      <th>version</th>\n",
       "      <th>bright_ti5</th>\n",
       "      <th>frp</th>\n",
       "      <th>daynight</th>\n",
       "    </tr>\n",
       "  </thead>\n",
       "  <tbody>\n",
       "    <tr>\n",
       "      <th>0</th>\n",
       "      <td>48.18580</td>\n",
       "      <td>-64.92191</td>\n",
       "      <td>299.55</td>\n",
       "      <td>0.39</td>\n",
       "      <td>0.36</td>\n",
       "      <td>2025-05-15</td>\n",
       "      <td>618</td>\n",
       "      <td>N</td>\n",
       "      <td>VIIRS</td>\n",
       "      <td>n</td>\n",
       "      <td>2.0NRT</td>\n",
       "      <td>284.69</td>\n",
       "      <td>0.77</td>\n",
       "      <td>N</td>\n",
       "    </tr>\n",
       "    <tr>\n",
       "      <th>1</th>\n",
       "      <td>41.56999</td>\n",
       "      <td>-84.04675</td>\n",
       "      <td>295.85</td>\n",
       "      <td>0.75</td>\n",
       "      <td>0.77</td>\n",
       "      <td>2025-05-15</td>\n",
       "      <td>620</td>\n",
       "      <td>N</td>\n",
       "      <td>VIIRS</td>\n",
       "      <td>n</td>\n",
       "      <td>2.0NRT</td>\n",
       "      <td>279.97</td>\n",
       "      <td>1.89</td>\n",
       "      <td>N</td>\n",
       "    </tr>\n",
       "    <tr>\n",
       "      <th>2</th>\n",
       "      <td>42.94596</td>\n",
       "      <td>-82.41591</td>\n",
       "      <td>299.30</td>\n",
       "      <td>0.63</td>\n",
       "      <td>0.72</td>\n",
       "      <td>2025-05-15</td>\n",
       "      <td>620</td>\n",
       "      <td>N</td>\n",
       "      <td>VIIRS</td>\n",
       "      <td>n</td>\n",
       "      <td>2.0NRT</td>\n",
       "      <td>281.08</td>\n",
       "      <td>1.30</td>\n",
       "      <td>N</td>\n",
       "    </tr>\n",
       "    <tr>\n",
       "      <th>3</th>\n",
       "      <td>43.25919</td>\n",
       "      <td>-79.80930</td>\n",
       "      <td>299.35</td>\n",
       "      <td>0.47</td>\n",
       "      <td>0.64</td>\n",
       "      <td>2025-05-15</td>\n",
       "      <td>620</td>\n",
       "      <td>N</td>\n",
       "      <td>VIIRS</td>\n",
       "      <td>n</td>\n",
       "      <td>2.0NRT</td>\n",
       "      <td>280.92</td>\n",
       "      <td>1.07</td>\n",
       "      <td>N</td>\n",
       "    </tr>\n",
       "    <tr>\n",
       "      <th>4</th>\n",
       "      <td>43.26336</td>\n",
       "      <td>-79.81239</td>\n",
       "      <td>295.10</td>\n",
       "      <td>0.47</td>\n",
       "      <td>0.64</td>\n",
       "      <td>2025-05-15</td>\n",
       "      <td>620</td>\n",
       "      <td>N</td>\n",
       "      <td>VIIRS</td>\n",
       "      <td>n</td>\n",
       "      <td>2.0NRT</td>\n",
       "      <td>280.94</td>\n",
       "      <td>2.32</td>\n",
       "      <td>N</td>\n",
       "    </tr>\n",
       "    <tr>\n",
       "      <th>...</th>\n",
       "      <td>...</td>\n",
       "      <td>...</td>\n",
       "      <td>...</td>\n",
       "      <td>...</td>\n",
       "      <td>...</td>\n",
       "      <td>...</td>\n",
       "      <td>...</td>\n",
       "      <td>...</td>\n",
       "      <td>...</td>\n",
       "      <td>...</td>\n",
       "      <td>...</td>\n",
       "      <td>...</td>\n",
       "      <td>...</td>\n",
       "      <td>...</td>\n",
       "    </tr>\n",
       "    <tr>\n",
       "      <th>1136</th>\n",
       "      <td>46.72927</td>\n",
       "      <td>-119.86828</td>\n",
       "      <td>329.01</td>\n",
       "      <td>0.70</td>\n",
       "      <td>0.70</td>\n",
       "      <td>2025-05-15</td>\n",
       "      <td>1928</td>\n",
       "      <td>N</td>\n",
       "      <td>VIIRS</td>\n",
       "      <td>n</td>\n",
       "      <td>2.0URT</td>\n",
       "      <td>278.07</td>\n",
       "      <td>3.83</td>\n",
       "      <td>D</td>\n",
       "    </tr>\n",
       "    <tr>\n",
       "      <th>1137</th>\n",
       "      <td>46.74647</td>\n",
       "      <td>-119.90322</td>\n",
       "      <td>334.99</td>\n",
       "      <td>0.70</td>\n",
       "      <td>0.70</td>\n",
       "      <td>2025-05-15</td>\n",
       "      <td>1928</td>\n",
       "      <td>N</td>\n",
       "      <td>VIIRS</td>\n",
       "      <td>n</td>\n",
       "      <td>2.0URT</td>\n",
       "      <td>277.95</td>\n",
       "      <td>8.90</td>\n",
       "      <td>D</td>\n",
       "    </tr>\n",
       "    <tr>\n",
       "      <th>1138</th>\n",
       "      <td>46.74780</td>\n",
       "      <td>-119.90367</td>\n",
       "      <td>342.70</td>\n",
       "      <td>0.70</td>\n",
       "      <td>0.70</td>\n",
       "      <td>2025-05-15</td>\n",
       "      <td>1928</td>\n",
       "      <td>N</td>\n",
       "      <td>VIIRS</td>\n",
       "      <td>n</td>\n",
       "      <td>2.0URT</td>\n",
       "      <td>278.68</td>\n",
       "      <td>8.50</td>\n",
       "      <td>D</td>\n",
       "    </tr>\n",
       "    <tr>\n",
       "      <th>1139</th>\n",
       "      <td>46.74968</td>\n",
       "      <td>-119.89430</td>\n",
       "      <td>351.53</td>\n",
       "      <td>0.70</td>\n",
       "      <td>0.70</td>\n",
       "      <td>2025-05-15</td>\n",
       "      <td>1928</td>\n",
       "      <td>N</td>\n",
       "      <td>VIIRS</td>\n",
       "      <td>n</td>\n",
       "      <td>2.0URT</td>\n",
       "      <td>281.05</td>\n",
       "      <td>13.16</td>\n",
       "      <td>D</td>\n",
       "    </tr>\n",
       "    <tr>\n",
       "      <th>1140</th>\n",
       "      <td>46.75108</td>\n",
       "      <td>-119.89474</td>\n",
       "      <td>344.90</td>\n",
       "      <td>0.70</td>\n",
       "      <td>0.70</td>\n",
       "      <td>2025-05-15</td>\n",
       "      <td>1928</td>\n",
       "      <td>N</td>\n",
       "      <td>VIIRS</td>\n",
       "      <td>n</td>\n",
       "      <td>2.0URT</td>\n",
       "      <td>280.25</td>\n",
       "      <td>8.50</td>\n",
       "      <td>D</td>\n",
       "    </tr>\n",
       "  </tbody>\n",
       "</table>\n",
       "<p>1141 rows × 14 columns</p>\n",
       "</div>"
      ],
      "text/plain": [
       "      latitude  longitude  bright_ti4  scan  track    acq_date  acq_time  \\\n",
       "0     48.18580  -64.92191      299.55  0.39   0.36  2025-05-15       618   \n",
       "1     41.56999  -84.04675      295.85  0.75   0.77  2025-05-15       620   \n",
       "2     42.94596  -82.41591      299.30  0.63   0.72  2025-05-15       620   \n",
       "3     43.25919  -79.80930      299.35  0.47   0.64  2025-05-15       620   \n",
       "4     43.26336  -79.81239      295.10  0.47   0.64  2025-05-15       620   \n",
       "...        ...        ...         ...   ...    ...         ...       ...   \n",
       "1136  46.72927 -119.86828      329.01  0.70   0.70  2025-05-15      1928   \n",
       "1137  46.74647 -119.90322      334.99  0.70   0.70  2025-05-15      1928   \n",
       "1138  46.74780 -119.90367      342.70  0.70   0.70  2025-05-15      1928   \n",
       "1139  46.74968 -119.89430      351.53  0.70   0.70  2025-05-15      1928   \n",
       "1140  46.75108 -119.89474      344.90  0.70   0.70  2025-05-15      1928   \n",
       "\n",
       "     satellite instrument confidence version  bright_ti5    frp daynight  \n",
       "0            N      VIIRS          n  2.0NRT      284.69   0.77        N  \n",
       "1            N      VIIRS          n  2.0NRT      279.97   1.89        N  \n",
       "2            N      VIIRS          n  2.0NRT      281.08   1.30        N  \n",
       "3            N      VIIRS          n  2.0NRT      280.92   1.07        N  \n",
       "4            N      VIIRS          n  2.0NRT      280.94   2.32        N  \n",
       "...        ...        ...        ...     ...         ...    ...      ...  \n",
       "1136         N      VIIRS          n  2.0URT      278.07   3.83        D  \n",
       "1137         N      VIIRS          n  2.0URT      277.95   8.90        D  \n",
       "1138         N      VIIRS          n  2.0URT      278.68   8.50        D  \n",
       "1139         N      VIIRS          n  2.0URT      281.05  13.16        D  \n",
       "1140         N      VIIRS          n  2.0URT      280.25   8.50        D  \n",
       "\n",
       "[1141 rows x 14 columns]"
      ]
     },
     "metadata": {},
     "output_type": "display_data"
    }
   ],
   "source": [
    "display(wildfires_df)"
   ]
  },
  {
   "cell_type": "code",
   "execution_count": 8,
   "metadata": {},
   "outputs": [
    {
     "name": "stdout",
     "output_type": "stream",
     "text": [
      "Rows: 1141\n",
      "Columns: Index(['latitude', 'longitude', 'bright_ti4', 'scan', 'track', 'acq_date',\n",
      "       'acq_time', 'satellite', 'instrument', 'confidence', 'version',\n",
      "       'bright_ti5', 'frp', 'daynight'],\n",
      "      dtype='object')\n"
     ]
    }
   ],
   "source": [
    "print(f\"Rows: {len(wildfires_df)}\")\n",
    "print(f\"Columns: {wildfires_df.columns}\")"
   ]
  },
  {
   "cell_type": "code",
   "execution_count": 9,
   "metadata": {},
   "outputs": [
    {
     "data": {
      "text/plain": [
       "array(['n', 'h', 'l'], dtype=object)"
      ]
     },
     "execution_count": 9,
     "metadata": {},
     "output_type": "execute_result"
    }
   ],
   "source": [
    "wildfires_df['confidence'].unique()"
   ]
  },
  {
   "cell_type": "code",
   "execution_count": 10,
   "metadata": {},
   "outputs": [],
   "source": [
    "tx_long = -100.0\n",
    "tx_lat = 31.0\n",
    "tx_zoom = 6"
   ]
  },
  {
   "cell_type": "code",
   "execution_count": 11,
   "metadata": {},
   "outputs": [],
   "source": [
    "m = leafmap.Map(center=[tx_lat, tx_long], zoom=tx_zoom,\n",
    "                    epsg=\"4326\")"
   ]
  },
  {
   "cell_type": "code",
   "execution_count": 12,
   "metadata": {},
   "outputs": [
    {
     "name": "stdout",
     "output_type": "stream",
     "text": [
      "Rows: 55\n",
      "Columns: Index(['bright_ti4', 'scan', 'track', 'acq_date', 'acq_time', 'satellite',\n",
      "       'instrument', 'confidence', 'version', 'bright_ti5', 'frp', 'daynight',\n",
      "       'geometry'],\n",
      "      dtype='object')\n"
     ]
    }
   ],
   "source": [
    "import geopandas as gpd\n",
    "from shapely.geometry import Point\n",
    "# Convert the DataFrame to a GeoDataFrame\n",
    "wildfires_df['geometry'] = wildfires_df.apply(lambda x: Point(x['longitude'], x['latitude']), axis=1)\n",
    "gdf = gpd.GeoDataFrame(wildfires_df, geometry='geometry')\n",
    "# drop unnecessary columns\n",
    "gdf = gdf.drop(columns=['longitude', 'latitude'])\n",
    "# get rows where confidence is greater than 50\n",
    "gdf = gdf[gdf['confidence'] == 'h']\n",
    "gdf = gdf.set_crs(epsg=4326)\n",
    "print(f\"Rows: {len(gdf)}\")\n",
    "print(f\"Columns: {gdf.columns}\")"
   ]
  },
  {
   "cell_type": "code",
   "execution_count": null,
   "metadata": {},
   "outputs": [],
   "source": [
    "# Add the GeoDataFrame to the map\n",
    "m.add_gdf(gdf, layer_name=\"Fires\")"
   ]
  },
  {
   "cell_type": "code",
   "execution_count": 14,
   "metadata": {},
   "outputs": [
    {
     "data": {
      "application/vnd.jupyter.widget-view+json": {
       "model_id": "1da5b8526bac4574b220cccbf95a30e0",
       "version_major": 2,
       "version_minor": 0
      },
      "text/plain": [
       "Map(center=[31.0, -100.0], controls=(ZoomControl(options=['position', 'zoom_in_text', 'zoom_in_title', 'zoom_o…"
      ]
     },
     "execution_count": 14,
     "metadata": {},
     "output_type": "execute_result"
    }
   ],
   "source": [
    "m"
   ]
  },
  {
   "cell_type": "code",
   "execution_count": null,
   "metadata": {},
   "outputs": [],
   "source": []
  }
 ],
 "metadata": {
  "kernelspec": {
   "display_name": ".venv",
   "language": "python",
   "name": "python3"
  },
  "language_info": {
   "codemirror_mode": {
    "name": "ipython",
    "version": 3
   },
   "file_extension": ".py",
   "mimetype": "text/x-python",
   "name": "python",
   "nbconvert_exporter": "python",
   "pygments_lexer": "ipython3",
   "version": "3.11.9"
  }
 },
 "nbformat": 4,
 "nbformat_minor": 2
}
