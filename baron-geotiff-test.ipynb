{
 "cells": [
  {
   "cell_type": "code",
   "execution_count": null,
   "id": "992a168c",
   "metadata": {},
   "outputs": [],
   "source": [
    "import base64\n",
    "import hmac\n",
    "import time\n",
    "import requests\n",
    "import urllib.request\n",
    "from dotenv import load_dotenv\n",
    "import os\n",
    "import json\n",
    "from hashlib import sha1 as sha"
   ]
  },
  {
   "cell_type": "code",
   "execution_count": null,
   "id": "0acd4bcd",
   "metadata": {},
   "outputs": [],
   "source": [
    "# load environment variables from .env file\n",
    "load_dotenv(\"local.env\")"
   ]
  },
  {
   "cell_type": "code",
   "execution_count": null,
   "id": "d3e824b7",
   "metadata": {},
   "outputs": [],
   "source": [
    "host = \"http://api.velocityweather.com/v1\"\n",
    "access_key = os.getenv(\"BARON_KEY\")\n",
    "if access_key is None:\n",
    "    raise ValueError(\"Missing BARON_KEY in local.env file\")\n",
    "access_key_secret = os.getenv(\"BARON_SECRET\")\n",
    "if access_key_secret is None:\n",
    "    raise ValueError(\"Missing BARON_SECRET in local.env file\")"
   ]
  },
  {
   "cell_type": "code",
   "execution_count": null,
   "id": "c118f12e",
   "metadata": {},
   "outputs": [],
   "source": [
    "def sign(string_to_sign, secret):\n",
    "    hmac_sha1 = hmac.new(\n",
    "        # Convert secret to bytes using UTF-8\n",
    "        secret.encode('utf-8'),\n",
    "        # Convert input string to bytes using UTF-8\n",
    "        string_to_sign.encode('utf-8'),\n",
    "        sha                        # Use SHA1 hash algorithm\n",
    "    )\n",
    "\n",
    "    # Get the binary digest\n",
    "    hmac_digest = hmac_sha1.digest()\n",
    "\n",
    "    # Encode to base64\n",
    "    base64_encoded = base64.b64encode(hmac_digest).decode('utf-8')\n",
    "\n",
    "    # Replace characters to make URL safe\n",
    "    signature = base64_encoded.replace('/', '_').replace('+', '-')\n",
    "\n",
    "    return signature\n",
    "\n",
    "\n",
    "def sign_request(url, key, secret):\n",
    "    \"\"\" Returns signed url\n",
    "    \"\"\"\n",
    "\n",
    "    ts = str(int(time.time()))\n",
    "    sig = sign(key + \":\" + ts, secret)\n",
    "    q = '?' if url.find(\"?\") == -1 else '&'\n",
    "    url += \"%ssig=%s&ts=%s\" % (q, sig, ts)\n",
    "    return url"
   ]
  },
  {
   "cell_type": "code",
   "execution_count": null,
   "id": "1689ce92",
   "metadata": {},
   "outputs": [],
   "source": [
    "def fetch_url(url):\n",
    "    try:\n",
    "        # Make the request with gzip compression support\n",
    "        response = requests.get(url, headers={\"Accept-Encoding\": \"gzip\"})\n",
    "        response.raise_for_status()\n",
    "        return response.json()\n",
    "    except requests.RequestException as e:\n",
    "        print(f\"[VelocityWeather] Request failed: {e}\")\n",
    "        return None"
   ]
  },
  {
   "cell_type": "code",
   "execution_count": null,
   "id": "02e7edcc",
   "metadata": {},
   "outputs": [],
   "source": [
    "def get_product_instance(product, product_config):\n",
    "    \"\"\"\n",
    "    Retrieve product instance metadata from the Velocity Weather API.\n",
    "    \n",
    "    This function fetches the latest product instance information for a given\n",
    "    product and configuration. It uses request signing for authentication and\n",
    "    handles error cases appropriately.\n",
    "    \n",
    "    Args:\n",
    "        product (str): The product identifier (e.g., \"fire-tracker-us\")\n",
    "        product_config (str): The product configuration (e.g., \"Standard-Mercator\")\n",
    "        \n",
    "    Returns:\n",
    "        dict or None: The product instance metadata if successful, None if the request fails\n",
    "        \n",
    "    Example:\n",
    "        >>> instance_data = get_product_instance(\"fire-tracker-us\", \"Standard-Mercator\")\n",
    "        >>> if instance_data:\n",
    "        ...     print(instance_data[0]['time'])\n",
    "    \"\"\"\n",
    "    # Construct the metadata URL\n",
    "    meta_url = f\"{host}/{access_key}/meta/tiles/product-instances/{product}/{product_config}\"\n",
    "    \n",
    "    # Sign the request for authentication\n",
    "    signed_url = sign_request(meta_url, access_key, access_key_secret)\n",
    "    \n",
    "    # Fetch and validate the response\n",
    "    data = fetch_url(signed_url)\n",
    "    if not data:\n",
    "        print(\"Error: Product meta info not found.\")\n",
    "    return data"
   ]
  },
  {
   "cell_type": "code",
   "execution_count": null,
   "id": "b08f2458",
   "metadata": {},
   "outputs": [],
   "source": [
    "def get_instance_time(product, config):\n",
    "    data = get_product_instance(product, config)\n",
    "    if not data:\n",
    "        return None\n",
    "\n",
    "    instance_time = data[0]['time'] \n",
    "    return instance_time"
   ]
  },
  {
   "cell_type": "code",
   "execution_count": null,
   "id": "33f268b8",
   "metadata": {},
   "outputs": [],
   "source": [
    "def request_geotiff_url(product, product_config, image_bounds):\n",
    "    \"\"\"\n",
    "    Build the Baron API URL for a GeoTIFF request.\n",
    "    \"\"\"\n",
    "    product_instance_time = get_instance_time(product, product_config)\n",
    "    if not product_instance_time:\n",
    "        print(\"Error: Product instance time not found.\")\n",
    "        return None\n",
    "\n",
    "    geotiff_url = f\"{host}/{access_key}/geotiff/{product}/{product_config}/{product_instance_time}?&BBOX={image_bounds}\"\n",
    "    \n",
    "    geotiff_url = sign_request(geotiff_url, access_key, access_key_secret)\n",
    "    print(geotiff_url)\n",
    "\n",
    "    return(geotiff_url)"
   ]
  },
  {
   "cell_type": "code",
   "execution_count": null,
   "id": "efd846a1",
   "metadata": {},
   "outputs": [],
   "source": [
    "def request_geotiff_image(product, product_config, image_bounds):\n",
    "    \"\"\" \n",
    "    Requests a GeoTIFF image and saves it to disk in the current directory.\n",
    "    \"\"\"\n",
    "    geotiff_url = request_geotiff_url(product, product_config, image_bounds)\n",
    "    if geotiff_url is None:\n",
    "        print('Failed to get GeoTIFF URL')\n",
    "        return\n",
    "    try:\n",
    "        response = urllib.request.urlopen(geotiff_url)\n",
    "    except urllib.error.HTTPError as e:\n",
    "        print('HTTP status code:', e.code)\n",
    "        print('content:')\n",
    "        print(e.read())\n",
    "        return\n",
    "    assert response.code == 200\n",
    "\n",
    "    content = response.read()\n",
    "    print(f\"GeoTiff content: {content}\")\n",
    "    geotiff_json = json.loads(content)\n",
    "\n",
    "    geotiff_image_url = geotiff_json['source']\n",
    "\n",
    "    return geotiff_image_url"
   ]
  },
  {
   "cell_type": "code",
   "execution_count": null,
   "id": "976870f6",
   "metadata": {},
   "outputs": [],
   "source": [
    "texas_bound_box = [-106.645646, 36.500704, -93.508292, 25.837164]\n",
    "texas_bbox_str = \"-106.645646,36.500704,-93.508292,25.837164\"\n",
    "usa_bound_box = [-125.859375, 25.618963, -63.193359, 49.378416]\n",
    "whole_world_bound_box = [-90, -180, 90, 180]"
   ]
  },
  {
   "cell_type": "code",
   "execution_count": null,
   "id": "681be69b",
   "metadata": {},
   "outputs": [],
   "source": [
    "# product =  'north-american-radar'\n",
    "# product = 'baron-hires-haildiameter' # 'flash-flood-risk' \n",
    "product = 'C39-0x03A1-0' # Damaging Wind Path\n",
    "# 'baron-hires-haildiameter' #'fire-tracker-us' #'north-american-radar' #'fspc-day2-outlook' #  'C39-0x0302-0' #  #'C39-0x0355-0' # \n",
    "product_config = 'Standard-Geodetic' # \n",
    "image_size_in_pixels = [2048, 2048]\n",
    "image_bounds = texas_bound_box\n"
   ]
  },
  {
   "cell_type": "code",
   "execution_count": null,
   "id": "a240c8d6",
   "metadata": {},
   "outputs": [],
   "source": [
    "geotiff_image_url = request_geotiff_image(product, product_config, texas_bbox_str)"
   ]
  },
  {
   "cell_type": "code",
   "execution_count": null,
   "id": "fed38ad2",
   "metadata": {},
   "outputs": [],
   "source": [
    "geotiff_image_url"
   ]
  },
  {
   "cell_type": "code",
   "execution_count": null,
   "id": "b8d57eee",
   "metadata": {},
   "outputs": [],
   "source": [
    "from datetime import datetime\n",
    "\n",
    "current_datetime = datetime.now().strftime(\"%Y%m%d_%H%M%S\")\n",
    "current_datetime"
   ]
  },
  {
   "cell_type": "code",
   "execution_count": null,
   "id": "16f91bb9",
   "metadata": {},
   "outputs": [],
   "source": [
    "geotiff_image_filename = f'./{product}_{product_config}_{current_datetime}.tiff'\n",
    "if geotiff_image_url:\n",
    "    response = requests.get(geotiff_image_url)\n",
    "    if response.status_code == 200:\n",
    "        filename = f'./wms_img_{product}_{product_config}.tiff'\n",
    "        with open(geotiff_image_filename, 'wb') as f:\n",
    "            f.write(response.content)\n",
    "        print(f\"GeoTIFF image downloaded and saved as {geotiff_image_filename}\")\n",
    "    else:\n",
    "        print(f\"Failed to download GeoTIFF image. Status code: {response.status_code}\")\n",
    "else:\n",
    "    print(\"geotiff_image_url is not set.\")"
   ]
  },
  {
   "cell_type": "code",
   "execution_count": null,
   "id": "6bf84b5f",
   "metadata": {},
   "outputs": [],
   "source": [
    "import rasterio\n",
    "import geopandas as gpd\n",
    "from rasterio.features import shapes\n",
    "\n",
    "with rasterio.open(geotiff_image_filename) as src:\n",
    "    image = src.read(1)\n",
    "    mask = image != src.nodata\n",
    "    results = (\n",
    "        {\"properties\": {\"value\": v}, \"geometry\": s}\n",
    "        for s, v in shapes(image, mask=mask, transform=src.transform)\n",
    "    )\n",
    "    geoms = list(results)"
   ]
  },
  {
   "cell_type": "code",
   "execution_count": null,
   "id": "d4e2d61d",
   "metadata": {},
   "outputs": [],
   "source": [
    "gdf = gpd.GeoDataFrame.from_features(geoms, crs=src.crs)"
   ]
  },
  {
   "cell_type": "code",
   "execution_count": null,
   "id": "2c1a527e",
   "metadata": {},
   "outputs": [],
   "source": [
    "print(f\"Head= {gdf.head()}\")\n",
    "print(f\"CRS= {gdf.crs}\")\n",
    "print(f\"Shape= {gdf.shape}\")\n",
    "gdf.head()"
   ]
  },
  {
   "cell_type": "code",
   "execution_count": null,
   "id": "d4eb2448",
   "metadata": {},
   "outputs": [],
   "source": [
    "gdf.to_file(f\"{product}_{product_config}_{current_datetime}.geojson\", driver=\"GeoJSON\")"
   ]
  },
  {
   "cell_type": "markdown",
   "id": "a492b025",
   "metadata": {},
   "source": [
    "### Get weather geometries that are inside Texas"
   ]
  },
  {
   "cell_type": "code",
   "execution_count": null,
   "id": "3dc0e26a",
   "metadata": {},
   "outputs": [],
   "source": [
    "texas_gdf = gpd.read_file(\"texas.geojson\")"
   ]
  },
  {
   "cell_type": "markdown",
   "id": "1dc24573",
   "metadata": {},
   "source": [
    "#### Get geometry with 50 mile buffer around Texas"
   ]
  },
  {
   "cell_type": "code",
   "execution_count": null,
   "id": "920bdbb0",
   "metadata": {},
   "outputs": [],
   "source": [
    "# Convert to a projected CRS, e.g., EPSG:3083 (Texas Centric Albers Equal Area)\n",
    "texas_proj = texas_gdf.to_crs(epsg=3083)\n",
    "\n",
    "# 50 miles in meters (1 mile ≈ 1609.34 meters)\n",
    "buffered_texas_proj = texas_proj.buffer(50 * 1609.34)\n",
    "\n",
    "# Create a new GeoDataFrame for the buffered geometry\n",
    "buffered_texas_gdf = gpd.GeoDataFrame(geometry=buffered_texas_proj, crs=texas_proj.crs)\n",
    "\n",
    "# Optionally convert back to EPSG:4326\n",
    "buffered_texas_gdf = buffered_texas_gdf.to_crs(epsg=4326)"
   ]
  },
  {
   "cell_type": "code",
   "execution_count": null,
   "id": "47b0a0e9",
   "metadata": {},
   "outputs": [],
   "source": [
    "buffered_texas_gdf.to_file(f\"texas_buffered.geojson\", driver=\"GeoJSON\")"
   ]
  },
  {
   "cell_type": "markdown",
   "id": "e0cb22be",
   "metadata": {},
   "source": [
    "#### Get weather geometries that are inside Texas 50 mile buffer"
   ]
  },
  {
   "cell_type": "code",
   "execution_count": null,
   "id": "006891ad",
   "metadata": {},
   "outputs": [],
   "source": [
    "from shapely.geometry import Polygon, MultiPolygon\n",
    "\n",
    "# Ensure both GeoDataFrames use the same CRS\n",
    "if gdf.crs != buffered_texas_gdf.crs:\n",
    "    gdf = gdf.to_crs(buffered_texas_gdf.crs)\n",
    "\n",
    "# Get the union of all Texas geometries\n",
    "texas_union = texas_gdf.geometry.union_all()\n",
    "\n",
    "# Select geometries in gdf that are within Texas\n",
    "gdf_within_texas = gdf[gdf.geometry.within(texas_union)]"
   ]
  },
  {
   "cell_type": "code",
   "execution_count": null,
   "id": "14e8ab01",
   "metadata": {},
   "outputs": [],
   "source": [
    "print(f\"Head=\\n{gdf_within_texas.head()}\")\n",
    "print(f\"CRS={gdf_within_texas.crs}\")\n",
    "print(f\"Shape= {gdf_within_texas.shape}\")"
   ]
  },
  {
   "cell_type": "code",
   "execution_count": null,
   "id": "e06318a1",
   "metadata": {},
   "outputs": [],
   "source": [
    "gdf_within_texas.to_file(f\"tx_{product}_{product_config}_{current_datetime}_within.geojson\", driver=\"GeoJSON\")"
   ]
  },
  {
   "cell_type": "markdown",
   "id": "4d3ecb4b",
   "metadata": {},
   "source": [
    "## Visualize on map"
   ]
  },
  {
   "cell_type": "code",
   "execution_count": null,
   "id": "e3be1e4c",
   "metadata": {},
   "outputs": [],
   "source": [
    "import leafmap\n",
    "hc_lat = 29.85722627925764\n",
    "hc_long = -95.39202050686889\n",
    "m = leafmap.Map(center=[hc_lat, hc_long], zoom=7,\n",
    "                epsg=\"4326\")"
   ]
  },
  {
   "cell_type": "code",
   "execution_count": null,
   "id": "7c76a7e6",
   "metadata": {},
   "outputs": [],
   "source": [
    "m.add_gdf(gdf_within_texas, layer_name=product, style={\"color\": \"blue\", \"weight\": 2})"
   ]
  },
  {
   "cell_type": "code",
   "execution_count": null,
   "id": "6d4746fe",
   "metadata": {},
   "outputs": [],
   "source": [
    "m.add_gdf(texas_gdf, layer_name=\"Texas\", style={\"color\": \"red\", \"weight\": 2})"
   ]
  },
  {
   "cell_type": "code",
   "execution_count": null,
   "id": "86faae4b",
   "metadata": {},
   "outputs": [],
   "source": [
    "m"
   ]
  }
 ],
 "metadata": {
  "kernelspec": {
   "display_name": ".venv",
   "language": "python",
   "name": "python3"
  },
  "language_info": {
   "codemirror_mode": {
    "name": "ipython",
    "version": 3
   },
   "file_extension": ".py",
   "mimetype": "text/x-python",
   "name": "python",
   "nbconvert_exporter": "python",
   "pygments_lexer": "ipython3",
   "version": "3.11.9"
  }
 },
 "nbformat": 4,
 "nbformat_minor": 5
}
